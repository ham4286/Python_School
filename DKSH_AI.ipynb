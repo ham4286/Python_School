{
  "nbformat": 4,
  "nbformat_minor": 0,
  "metadata": {
    "colab": {
      "provenance": [],
      "authorship_tag": "ABX9TyOagIzr5iMmGY0YQBm34FL4",
      "include_colab_link": true
    },
    "kernelspec": {
      "name": "python3",
      "display_name": "Python 3"
    },
    "language_info": {
      "name": "python"
    }
  },
  "cells": [
    {
      "cell_type": "markdown",
      "metadata": {
        "id": "view-in-github",
        "colab_type": "text"
      },
      "source": [
        "<a href=\"https://colab.research.google.com/github/ham4286/Python_School/blob/main/DKSH_AI.ipynb\" target=\"_parent\"><img src=\"https://colab.research.google.com/assets/colab-badge.svg\" alt=\"Open In Colab\"/></a>"
      ]
    },
    {
      "cell_type": "code",
      "execution_count": 10,
      "metadata": {
        "id": "9I6beCAaDsvq",
        "colab": {
          "base_uri": "https://localhost:8080/"
        },
        "outputId": "b0d1cc08-b312-4083-edb3-aa15d3779e16"
      },
      "outputs": [
        {
          "output_type": "stream",
          "name": "stdout",
          "text": [
            "happy school day\n",
            "h\n",
            "hap\n",
            " school day\n",
            "y\n",
            "day\n",
            " d\n"
          ]
        }
      ],
      "source": [
        "#파이썬 문법_슬라이싱\n",
        "x = 'happy school day'\n",
        "\n",
        "print(x)\n",
        "print(x[0])\n",
        "print(x[0:3])\n",
        "print(x[5:])\n",
        "print(x[-1])\n",
        "print(x[-3:])\n",
        "print(x[-4:-2])"
      ]
    },
    {
      "cell_type": "code",
      "source": [
        "#파이썬 문법_프로그램 수정하기\n",
        "\n",
        "a = int(input('1번째 숫자를 입력하세요. : '))\n",
        "b = int(input('2번째 숫자를 입력하세요. : '))\n",
        "\n",
        "c = a + b\n",
        "\n",
        "\n",
        "print(c)"
      ],
      "metadata": {
        "colab": {
          "base_uri": "https://localhost:8080/"
        },
        "id": "E3ruL9YOKsik",
        "outputId": "2947858d-01cd-498d-9e23-ebfef43030fe"
      },
      "execution_count": 14,
      "outputs": [
        {
          "output_type": "stream",
          "name": "stdout",
          "text": [
            "1번째 숫자를 입력하세요. : 2\n",
            "2번째 숫자를 입력하세요. : 3\n",
            "5\n"
          ]
        }
      ]
    },
    {
      "cell_type": "code",
      "source": [
        "#파이썬 문법_조건문\n",
        "\n",
        "x = int(input('숫자를 입력하세요 : '))\n",
        "\n",
        "if x > 0 :\n",
        "    print('양수입니다')\n",
        "else:\n",
        "    print('0 또는 음수입니다')"
      ],
      "metadata": {
        "colab": {
          "base_uri": "https://localhost:8080/"
        },
        "id": "zzYsMg4wMOUC",
        "outputId": "4bc09210-ae99-4fb8-8628-078e6eeb6bc7"
      },
      "execution_count": 15,
      "outputs": [
        {
          "output_type": "stream",
          "name": "stdout",
          "text": [
            "숫자를 입력하세요 : 2\n",
            "양수입니다\n"
          ]
        }
      ]
    },
    {
      "cell_type": "code",
      "source": [
        "#파이썬 문법_조건문2\n",
        "\n",
        "score = int(input('점수를 입력하세요 : '))\n",
        "\n",
        "if score >= 90:\n",
        "    grade = 'A'\n",
        "\n",
        "elif score >= 80:\n",
        "    grade = 'B'\n",
        "\n",
        "elif score >= 70:\n",
        "    grade = 'C'\n",
        "\n",
        "elif score >= 60:\n",
        "    grade = 'D'\n",
        "\n",
        "else:\n",
        "    grade = 'F'\n",
        "\n",
        "print('성적 : %d점' %score)\n",
        "print('등급 : %s' %grade)"
      ],
      "metadata": {
        "colab": {
          "base_uri": "https://localhost:8080/"
        },
        "id": "Hw4_f7pRNSHv",
        "outputId": "e9abd0fd-cb7b-4e99-998c-3905ddd43bb3"
      },
      "execution_count": 17,
      "outputs": [
        {
          "output_type": "stream",
          "name": "stdout",
          "text": [
            "점수를 입력하세요 : 90\n",
            "성적 : 90점\n",
            "등급 : A\n"
          ]
        }
      ]
    },
    {
      "cell_type": "code",
      "source": [
        "#파이썬 문법_반복문\n",
        "\n",
        "sum = 0\n",
        "\n",
        "for i in range(1,11):\n",
        "    sum+=i\n",
        "    print('i의 값 : %d, 합계 : %d' %(i, sum))"
      ],
      "metadata": {
        "colab": {
          "base_uri": "https://localhost:8080/"
        },
        "id": "2X6xyUhdOPfZ",
        "outputId": "dc5ddf67-a3ed-4241-aab6-635a1af975ed"
      },
      "execution_count": 20,
      "outputs": [
        {
          "output_type": "stream",
          "name": "stdout",
          "text": [
            "i의 값 : 1, 합계 : 1\n",
            "i의 값 : 2, 합계 : 3\n",
            "i의 값 : 3, 합계 : 6\n",
            "i의 값 : 4, 합계 : 10\n",
            "i의 값 : 5, 합계 : 15\n",
            "i의 값 : 6, 합계 : 21\n",
            "i의 값 : 7, 합계 : 28\n",
            "i의 값 : 8, 합계 : 36\n",
            "i의 값 : 9, 합계 : 45\n",
            "i의 값 : 10, 합계 : 55\n"
          ]
        }
      ]
    },
    {
      "cell_type": "code",
      "source": [
        "for i in range(1, 10 ,2):\n",
        "    print(i, end = '')\n",
        "print()\n",
        "for i in range(20, 0, -2):\n",
        "    print(i, end = '')"
      ],
      "metadata": {
        "colab": {
          "base_uri": "https://localhost:8080/"
        },
        "id": "_JPxR-QQPjbY",
        "outputId": "f9ededc9-5302-4626-f461-bd528126c8ce"
      },
      "execution_count": 22,
      "outputs": [
        {
          "output_type": "stream",
          "name": "stdout",
          "text": [
            "13579\n",
            "2018161412108642"
          ]
        }
      ]
    },
    {
      "cell_type": "code",
      "source": [
        "for i in range(0, -5, -1):\n",
        "    print(i)"
      ],
      "metadata": {
        "colab": {
          "base_uri": "https://localhost:8080/"
        },
        "id": "VE72B7Q7QgHR",
        "outputId": "334a55b6-0bf6-4ae0-b52a-44dd46dd615b"
      },
      "execution_count": 24,
      "outputs": [
        {
          "output_type": "stream",
          "name": "stdout",
          "text": [
            "0\n",
            "-1\n",
            "-2\n",
            "-3\n",
            "-4\n"
          ]
        }
      ]
    },
    {
      "cell_type": "code",
      "source": [
        "#파이썬 문법_리스트\n",
        "\n",
        "a = ['red', 'green', 'blue']\n",
        "a.append('yellow')\n",
        "a"
      ],
      "metadata": {
        "colab": {
          "base_uri": "https://localhost:8080/"
        },
        "id": "x2ESYQ_vRrmb",
        "outputId": "6566862e-f6df-45f9-92e6-856ef31a086b"
      },
      "execution_count": 26,
      "outputs": [
        {
          "output_type": "execute_result",
          "data": {
            "text/plain": [
              "['red', 'green', 'blue', 'yellow']"
            ]
          },
          "metadata": {},
          "execution_count": 26
        }
      ]
    },
    {
      "cell_type": "code",
      "source": [
        "color = ['red', 'green', 'blue', 'black', 'white']\n",
        "\n",
        "print(color[0])\n",
        "print(color[4])\n",
        "print(color[1:4])"
      ],
      "metadata": {
        "colab": {
          "base_uri": "https://localhost:8080/"
        },
        "id": "M_PWJcBwS52L",
        "outputId": "9ac5b3d0-7cb4-49fa-a173-50658ed418f0"
      },
      "execution_count": 27,
      "outputs": [
        {
          "output_type": "stream",
          "name": "stdout",
          "text": [
            "red\n",
            "white\n",
            "['green', 'blue', 'black']\n"
          ]
        }
      ]
    },
    {
      "cell_type": "code",
      "source": [],
      "metadata": {
        "id": "r2alMaxjTfcu"
      },
      "execution_count": null,
      "outputs": []
    }
  ]
}