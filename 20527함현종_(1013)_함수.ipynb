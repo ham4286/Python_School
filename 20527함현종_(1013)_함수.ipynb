{
  "nbformat": 4,
  "nbformat_minor": 0,
  "metadata": {
    "colab": {
      "provenance": [],
      "include_colab_link": true
    },
    "kernelspec": {
      "name": "python3",
      "display_name": "Python 3"
    },
    "language_info": {
      "name": "python"
    }
  },
  "cells": [
    {
      "cell_type": "markdown",
      "metadata": {
        "id": "view-in-github",
        "colab_type": "text"
      },
      "source": [
        "<a href=\"https://colab.research.google.com/github/ham4286/Python_School/blob/main/20527%ED%95%A8%ED%98%84%EC%A2%85_(1013)_%ED%95%A8%EC%88%98.ipynb\" target=\"_parent\"><img src=\"https://colab.research.google.com/assets/colab-badge.svg\" alt=\"Open In Colab\"/></a>"
      ]
    },
    {
      "cell_type": "code",
      "execution_count": 1,
      "metadata": {
        "id": "juXjbxDlRHk0",
        "colab": {
          "base_uri": "https://localhost:8080/"
        },
        "outputId": "980cdfd8-3e2f-46bb-d992-37aaf0771308"
      },
      "outputs": [
        {
          "output_type": "stream",
          "name": "stdout",
          "text": [
            "서울시 동대문구\n",
            "전동중학교 4층\n",
            "방과후교실\n"
          ]
        }
      ],
      "source": [
        "def print_address():\n",
        "  print(\"서울시 동대문구\")\n",
        "  print(\"전동중학교 4층\")\n",
        "  print(\"방과후교실\")\n",
        "print_address()"
      ]
    },
    {
      "cell_type": "code",
      "source": [
        "def print_address(name):\n",
        "  print(\"서울시 동대문구\")\n",
        "  print(\"전동중학교 4층\")\n",
        "  print(name)\n",
        "print_address(\"전동이\")"
      ],
      "metadata": {
        "colab": {
          "base_uri": "https://localhost:8080/"
        },
        "id": "exWRdoE8TaX3",
        "outputId": "d4f56ef9-60db-46b5-dc4d-2bd98ad0c1a7"
      },
      "execution_count": 4,
      "outputs": [
        {
          "output_type": "stream",
          "name": "stdout",
          "text": [
            "서울시 동대문구\n",
            "전동중학교 4층\n",
            "전동이\n"
          ]
        }
      ]
    },
    {
      "cell_type": "code",
      "source": [
        "def calculate_area(radius):\n",
        "  area = 3.14*radius**2\n",
        "  return area\n",
        "calculate_area(5)"
      ],
      "metadata": {
        "colab": {
          "base_uri": "https://localhost:8080/"
        },
        "id": "bzYredlQUYxk",
        "outputId": "6f7ddcce-ed17-4f14-bf88-d1b042b83cc0"
      },
      "execution_count": 12,
      "outputs": [
        {
          "output_type": "execute_result",
          "data": {
            "text/plain": [
              "78.5"
            ]
          },
          "metadata": {},
          "execution_count": 12
        }
      ]
    },
    {
      "cell_type": "code",
      "source": [
        "def calculate_area(radius):\n",
        "  area = 3.14*radius**2\n",
        "  return area\n",
        "print(calculate_area(5) + calculate_area(10))"
      ],
      "metadata": {
        "id": "es4Q7ZDxVZMX"
      },
      "execution_count": null,
      "outputs": []
    },
    {
      "cell_type": "code",
      "source": [
        "def calculate_area():\n",
        "  result = 3.14 * r **2\n",
        "  return result\n",
        "r = float(input(\"원의 반지름 : \"))\n",
        "area = calculate_area()\n",
        "print(area)"
      ],
      "metadata": {
        "colab": {
          "base_uri": "https://localhost:8080/"
        },
        "id": "djT6kp6nYpTh",
        "outputId": "7bec9667-6eff-42c9-9c0e-685a0783681c"
      },
      "execution_count": 32,
      "outputs": [
        {
          "output_type": "stream",
          "name": "stdout",
          "text": [
            "원의 반지름 : 5\n",
            "78.5\n"
          ]
        }
      ]
    },
    {
      "cell_type": "code",
      "source": [
        "def calculate_area(radius):\n",
        "  global area\n",
        "  area = 3.14 * radius **2\n",
        "  return\n",
        "\n",
        "area = 0\n",
        "r = float(input(\"원의 반지름 : \"))\n",
        "calculate_area(r)\n",
        "print(area)"
      ],
      "metadata": {
        "colab": {
          "base_uri": "https://localhost:8080/"
        },
        "id": "06USMI_OadtL",
        "outputId": "8241d81a-ef1a-49d5-c092-61ecf7351268"
      },
      "execution_count": 35,
      "outputs": [
        {
          "output_type": "stream",
          "name": "stdout",
          "text": [
            "원의 반지름 : 5\n",
            "78.5\n"
          ]
        }
      ]
    },
    {
      "cell_type": "code",
      "source": [
        "                    "
      ],
      "metadata": {
        "id": "atoMWSnncT_C"
      },
      "execution_count": null,
      "outputs": []
    }
  ]
}